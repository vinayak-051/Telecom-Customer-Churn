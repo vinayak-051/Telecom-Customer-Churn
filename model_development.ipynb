{
 "cells": [
  {
   "cell_type": "markdown",
   "id": "91c2cbb8",
   "metadata": {},
   "source": [
    "## Step 0: (Ensure imports + dataset ready)"
   ]
  },
  {
   "cell_type": "code",
   "execution_count": 1,
   "id": "78b31f50",
   "metadata": {},
   "outputs": [],
   "source": [
    "import pandas as pd  # For loading and handling data in tabular form\n",
    "from sklearn.model_selection import train_test_split, TimeSeriesSplit, cross_val_score  # For data splitting and validation\n",
    "from sklearn.preprocessing import StandardScaler, OneHotEncoder  # For feature scaling and encoding categorical variables\n",
    "from sklearn.compose import ColumnTransformer  # To apply different preprocessing to different feature types\n",
    "from sklearn.linear_model import LogisticRegression  # Logistic regression model for binary classification\n",
    "from sklearn.pipeline import Pipeline  # To build a sequence of preprocessing + model steps\n",
    "from sklearn.metrics import classification_report, confusion_matrix  # For model evaluation metrics\n",
    "\n"
   ]
  },
  {
   "cell_type": "code",
   "execution_count": 2,
   "id": "5c744761",
   "metadata": {},
   "outputs": [],
   "source": [
    "df = pd.read_csv(\"with_feature_engineering.csv\")  # replace with your file path\n"
   ]
  },
  {
   "cell_type": "code",
   "execution_count": 3,
   "id": "4f494b2f",
   "metadata": {},
   "outputs": [
    {
     "data": {
      "text/html": [
       "<div>\n",
       "<style scoped>\n",
       "    .dataframe tbody tr th:only-of-type {\n",
       "        vertical-align: middle;\n",
       "    }\n",
       "\n",
       "    .dataframe tbody tr th {\n",
       "        vertical-align: top;\n",
       "    }\n",
       "\n",
       "    .dataframe thead th {\n",
       "        text-align: right;\n",
       "    }\n",
       "</style>\n",
       "<table border=\"1\" class=\"dataframe\">\n",
       "  <thead>\n",
       "    <tr style=\"text-align: right;\">\n",
       "      <th></th>\n",
       "      <th>year</th>\n",
       "      <th>month</th>\n",
       "      <th>State</th>\n",
       "      <th>type_of_connection</th>\n",
       "      <th>value</th>\n",
       "      <th>date</th>\n",
       "      <th>Service_provider</th>\n",
       "      <th>subscriber_change</th>\n",
       "      <th>churn_flag</th>\n",
       "      <th>type_of_connection_encoded</th>\n",
       "      <th>...</th>\n",
       "      <th>subscribers_lag_6</th>\n",
       "      <th>subscribers_lag_12</th>\n",
       "      <th>subscribers_ma_3</th>\n",
       "      <th>subscribers_ma_6</th>\n",
       "      <th>subscribers_ma_12</th>\n",
       "      <th>yoy_growth</th>\n",
       "      <th>market_share</th>\n",
       "      <th>competitor_count</th>\n",
       "      <th>is_major_operator</th>\n",
       "      <th>is_metro</th>\n",
       "    </tr>\n",
       "  </thead>\n",
       "  <tbody>\n",
       "    <tr>\n",
       "      <th>0</th>\n",
       "      <td>2009</td>\n",
       "      <td>1</td>\n",
       "      <td>ALL INDIA</td>\n",
       "      <td>wireless</td>\n",
       "      <td>16761397.0</td>\n",
       "      <td>01-01-2009</td>\n",
       "      <td>AIRCEL</td>\n",
       "      <td>NaN</td>\n",
       "      <td>0</td>\n",
       "      <td>0</td>\n",
       "      <td>...</td>\n",
       "      <td>NaN</td>\n",
       "      <td>NaN</td>\n",
       "      <td>NaN</td>\n",
       "      <td>NaN</td>\n",
       "      <td>NaN</td>\n",
       "      <td>NaN</td>\n",
       "      <td>0.041899</td>\n",
       "      <td>10</td>\n",
       "      <td>0</td>\n",
       "      <td>0</td>\n",
       "    </tr>\n",
       "    <tr>\n",
       "      <th>1</th>\n",
       "      <td>2010</td>\n",
       "      <td>1</td>\n",
       "      <td>ALL INDIA</td>\n",
       "      <td>wireless</td>\n",
       "      <td>33035907.0</td>\n",
       "      <td>01-01-2010</td>\n",
       "      <td>AIRCEL</td>\n",
       "      <td>0.970952</td>\n",
       "      <td>0</td>\n",
       "      <td>0</td>\n",
       "      <td>...</td>\n",
       "      <td>NaN</td>\n",
       "      <td>NaN</td>\n",
       "      <td>NaN</td>\n",
       "      <td>NaN</td>\n",
       "      <td>NaN</td>\n",
       "      <td>NaN</td>\n",
       "      <td>0.056909</td>\n",
       "      <td>12</td>\n",
       "      <td>0</td>\n",
       "      <td>0</td>\n",
       "    </tr>\n",
       "    <tr>\n",
       "      <th>2</th>\n",
       "      <td>2011</td>\n",
       "      <td>1</td>\n",
       "      <td>ALL INDIA</td>\n",
       "      <td>wireless</td>\n",
       "      <td>51831796.0</td>\n",
       "      <td>01-01-2011</td>\n",
       "      <td>AIRCEL</td>\n",
       "      <td>0.568953</td>\n",
       "      <td>0</td>\n",
       "      <td>0</td>\n",
       "      <td>...</td>\n",
       "      <td>NaN</td>\n",
       "      <td>NaN</td>\n",
       "      <td>3.387637e+07</td>\n",
       "      <td>NaN</td>\n",
       "      <td>NaN</td>\n",
       "      <td>NaN</td>\n",
       "      <td>0.064297</td>\n",
       "      <td>14</td>\n",
       "      <td>0</td>\n",
       "      <td>0</td>\n",
       "    </tr>\n",
       "    <tr>\n",
       "      <th>3</th>\n",
       "      <td>2012</td>\n",
       "      <td>1</td>\n",
       "      <td>ALL INDIA</td>\n",
       "      <td>wireless</td>\n",
       "      <td>62462121.0</td>\n",
       "      <td>01-01-2012</td>\n",
       "      <td>AIRCEL</td>\n",
       "      <td>0.205093</td>\n",
       "      <td>0</td>\n",
       "      <td>0</td>\n",
       "      <td>...</td>\n",
       "      <td>NaN</td>\n",
       "      <td>NaN</td>\n",
       "      <td>4.910994e+07</td>\n",
       "      <td>NaN</td>\n",
       "      <td>NaN</td>\n",
       "      <td>NaN</td>\n",
       "      <td>0.066725</td>\n",
       "      <td>14</td>\n",
       "      <td>0</td>\n",
       "      <td>0</td>\n",
       "    </tr>\n",
       "    <tr>\n",
       "      <th>4</th>\n",
       "      <td>2013</td>\n",
       "      <td>1</td>\n",
       "      <td>ALL INDIA</td>\n",
       "      <td>wireless</td>\n",
       "      <td>61571291.0</td>\n",
       "      <td>01-01-2013</td>\n",
       "      <td>AIRCEL</td>\n",
       "      <td>-0.014262</td>\n",
       "      <td>0</td>\n",
       "      <td>0</td>\n",
       "      <td>...</td>\n",
       "      <td>NaN</td>\n",
       "      <td>NaN</td>\n",
       "      <td>5.862174e+07</td>\n",
       "      <td>NaN</td>\n",
       "      <td>NaN</td>\n",
       "      <td>NaN</td>\n",
       "      <td>0.068938</td>\n",
       "      <td>12</td>\n",
       "      <td>0</td>\n",
       "      <td>0</td>\n",
       "    </tr>\n",
       "  </tbody>\n",
       "</table>\n",
       "<p>5 rows × 24 columns</p>\n",
       "</div>"
      ],
      "text/plain": [
       "   year  month      State type_of_connection       value        date  \\\n",
       "0  2009      1  ALL INDIA           wireless  16761397.0  01-01-2009   \n",
       "1  2010      1  ALL INDIA           wireless  33035907.0  01-01-2010   \n",
       "2  2011      1  ALL INDIA           wireless  51831796.0  01-01-2011   \n",
       "3  2012      1  ALL INDIA           wireless  62462121.0  01-01-2012   \n",
       "4  2013      1  ALL INDIA           wireless  61571291.0  01-01-2013   \n",
       "\n",
       "  Service_provider  subscriber_change  churn_flag  type_of_connection_encoded  \\\n",
       "0           AIRCEL                NaN           0                           0   \n",
       "1           AIRCEL           0.970952           0                           0   \n",
       "2           AIRCEL           0.568953           0                           0   \n",
       "3           AIRCEL           0.205093           0                           0   \n",
       "4           AIRCEL          -0.014262           0                           0   \n",
       "\n",
       "   ...  subscribers_lag_6  subscribers_lag_12  subscribers_ma_3  \\\n",
       "0  ...                NaN                 NaN               NaN   \n",
       "1  ...                NaN                 NaN               NaN   \n",
       "2  ...                NaN                 NaN      3.387637e+07   \n",
       "3  ...                NaN                 NaN      4.910994e+07   \n",
       "4  ...                NaN                 NaN      5.862174e+07   \n",
       "\n",
       "   subscribers_ma_6  subscribers_ma_12  yoy_growth  market_share  \\\n",
       "0               NaN                NaN         NaN      0.041899   \n",
       "1               NaN                NaN         NaN      0.056909   \n",
       "2               NaN                NaN         NaN      0.064297   \n",
       "3               NaN                NaN         NaN      0.066725   \n",
       "4               NaN                NaN         NaN      0.068938   \n",
       "\n",
       "   competitor_count  is_major_operator  is_metro  \n",
       "0                10                  0         0  \n",
       "1                12                  0         0  \n",
       "2                14                  0         0  \n",
       "3                14                  0         0  \n",
       "4                12                  0         0  \n",
       "\n",
       "[5 rows x 24 columns]"
      ]
     },
     "execution_count": 3,
     "metadata": {},
     "output_type": "execute_result"
    }
   ],
   "source": [
    "df.head()"
   ]
  },
  {
   "cell_type": "markdown",
   "id": "0bc9e9b7",
   "metadata": {},
   "source": [
    "## Step 1: Separate features (X) and target (y)"
   ]
  },
  {
   "cell_type": "code",
   "execution_count": null,
   "id": "2e53624c",
   "metadata": {},
   "outputs": [],
   "source": []
  },
  {
   "cell_type": "code",
   "execution_count": 4,
   "id": "1ebb1214",
   "metadata": {},
   "outputs": [],
   "source": [
    "X = df.drop(columns=['churn_flag'])\n",
    "y = df['churn_flag'].astype(int)\n"
   ]
  },
  {
   "cell_type": "code",
   "execution_count": 5,
   "id": "100f3e23",
   "metadata": {},
   "outputs": [],
   "source": [
    "X = X.drop(['subscriber_change', 'yoy_growth'], axis=1, errors='ignore')\n"
   ]
  },
  {
   "cell_type": "code",
   "execution_count": 6,
   "id": "fd94afd7",
   "metadata": {},
   "outputs": [
    {
     "data": {
      "text/plain": [
       "Index(['year', 'month', 'State', 'type_of_connection', 'value', 'date',\n",
       "       'Service_provider', 'type_of_connection_encoded',\n",
       "       'Service_provider_encoded', 'value_scaled', 'subscribers_lag_1',\n",
       "       'subscribers_lag_3', 'subscribers_lag_6', 'subscribers_lag_12',\n",
       "       'subscribers_ma_3', 'subscribers_ma_6', 'subscribers_ma_12',\n",
       "       'market_share', 'competitor_count', 'is_major_operator', 'is_metro'],\n",
       "      dtype='object')"
      ]
     },
     "execution_count": 6,
     "metadata": {},
     "output_type": "execute_result"
    }
   ],
   "source": [
    "X.columns"
   ]
  },
  {
   "cell_type": "markdown",
   "id": "24abdbab",
   "metadata": {},
   "source": [
    "## Step 2: Handle missing values and drop unusable columns"
   ]
  },
  {
   "cell_type": "code",
   "execution_count": 7,
   "id": "6fae12e5",
   "metadata": {},
   "outputs": [],
   "source": [
    "X = X.drop(columns=['date'], errors='ignore')\n",
    "X = X.fillna(0)\n"
   ]
  },
  {
   "cell_type": "markdown",
   "id": "5db2676b",
   "metadata": {},
   "source": [
    "## Step 3: Define feature types"
   ]
  },
  {
   "cell_type": "code",
   "execution_count": 8,
   "id": "805492c1",
   "metadata": {},
   "outputs": [],
   "source": [
    "numeric_features = ['value', 'value_scaled', 'market_share']\n",
    "categorical_features = ['State', 'Service_provider', 'type_of_connection']\n"
   ]
  },
  {
   "cell_type": "markdown",
   "id": "e7922eff",
   "metadata": {},
   "source": [
    "## Step 4: Create preprocessing transformer"
   ]
  },
  {
   "cell_type": "code",
   "execution_count": 9,
   "id": "d95aea2f",
   "metadata": {},
   "outputs": [],
   "source": [
    "# Apply StandardScaler to numeric columns and OneHotEncoder to categorical columns\n",
    "preprocessor = ColumnTransformer(\n",
    "    transformers=[\n",
    "        ('num', StandardScaler(), numeric_features),               # Scale numeric data\n",
    "        ('cat', OneHotEncoder(handle_unknown='ignore'), categorical_features)  # Encode categorical data\n",
    "    ])"
   ]
  },
  {
   "cell_type": "markdown",
   "id": "3a052603",
   "metadata": {},
   "source": [
    "## Step 5: Define baseline model pipeline"
   ]
  },
  {
   "cell_type": "code",
   "execution_count": 10,
   "id": "19d81307",
   "metadata": {},
   "outputs": [],
   "source": [
    "# Combine preprocessing + logistic regression into one pipeline\n",
    "baseline_model = Pipeline(steps=[\n",
    "    ('preprocessor', preprocessor),  # Data preprocessing step\n",
    "    ('classifier', LogisticRegression(random_state=42, max_iter=1000))  # Logistic Regression model\n",
    "])\n"
   ]
  },
  {
   "cell_type": "markdown",
   "id": "9f1337c9",
   "metadata": {},
   "source": [
    "## Step 6: Time series cross-validation setup"
   ]
  },
  {
   "cell_type": "code",
   "execution_count": 11,
   "id": "9af09bae",
   "metadata": {},
   "outputs": [],
   "source": [
    "tscv = TimeSeriesSplit(n_splits=3)\n",
    "# For time-based data, ensures no data leakage (past data predicts future)\n"
   ]
  },
  {
   "cell_type": "markdown",
   "id": "1d1d83cf",
   "metadata": {},
   "source": [
    "## Step 7: Evaluate using cross-validation"
   ]
  },
  {
   "cell_type": "code",
   "execution_count": 12,
   "id": "53a3fd07",
   "metadata": {},
   "outputs": [
    {
     "name": "stdout",
     "output_type": "stream",
     "text": [
      "Mean F1 Score: 0.614932576620646\n"
     ]
    }
   ],
   "source": [
    "# Evaluate model performance using F1 score (good for imbalanced data)\n",
    "\n",
    "scores = cross_val_score(baseline_model, X, y, cv=tscv, scoring='f1')\n",
    "print(\"Mean F1 Score:\", scores.mean())\n"
   ]
  },
  {
   "cell_type": "code",
   "execution_count": 13,
   "id": "4a37920e",
   "metadata": {},
   "outputs": [
    {
     "data": {
      "text/plain": [
       "year                          0\n",
       "month                         0\n",
       "value                         0\n",
       "type_of_connection_encoded    0\n",
       "Service_provider_encoded      0\n",
       "value_scaled                  0\n",
       "subscribers_lag_1             0\n",
       "subscribers_lag_3             0\n",
       "subscribers_lag_6             0\n",
       "subscribers_lag_12            0\n",
       "subscribers_ma_3              0\n",
       "subscribers_ma_6              0\n",
       "subscribers_ma_12             0\n",
       "market_share                  0\n",
       "competitor_count              0\n",
       "is_major_operator             0\n",
       "is_metro                      0\n",
       "dtype: int64"
      ]
     },
     "execution_count": 13,
     "metadata": {},
     "output_type": "execute_result"
    }
   ],
   "source": [
    "import numpy as np\n",
    "\n",
    "# Check for infinity\n",
    "np.isinf(X.select_dtypes(include=[float, int])).sum()\n"
   ]
  },
  {
   "cell_type": "code",
   "execution_count": 14,
   "id": "af64e428",
   "metadata": {},
   "outputs": [],
   "source": [
    "# Fit the model on training data\n",
    "\n",
    "X_train, X_test, y_train, y_test = train_test_split(\n",
    "    X, y, test_size=0.2, shuffle=False  \n",
    ")\n",
    "# Predict on test data\n",
    "\n",
    "baseline_model.fit(X_train, y_train)\n",
    "y_pred = baseline_model.predict(X_test)\n"
   ]
  },
  {
   "cell_type": "code",
   "execution_count": 15,
   "id": "ad1ceba6",
   "metadata": {},
   "outputs": [
    {
     "name": "stdout",
     "output_type": "stream",
     "text": [
      "              precision    recall  f1-score   support\n",
      "\n",
      "           0       0.77      0.92      0.84      8961\n",
      "           1       0.79      0.53      0.63      5185\n",
      "\n",
      "    accuracy                           0.78     14146\n",
      "   macro avg       0.78      0.72      0.74     14146\n",
      "weighted avg       0.78      0.78      0.76     14146\n",
      "\n",
      "[[8243  718]\n",
      " [2453 2732]]\n"
     ]
    }
   ],
   "source": [
    "# Print precision, recall, f1-score for both classes\n",
    "\n",
    "print(classification_report(y_test, y_pred))\n",
    "print(confusion_matrix(y_test, y_pred))\n"
   ]
  },
  {
   "cell_type": "code",
   "execution_count": 16,
   "id": "885c4c18",
   "metadata": {},
   "outputs": [
    {
     "name": "stdout",
     "output_type": "stream",
     "text": [
      "ROI: 37.05\n"
     ]
    }
   ],
   "source": [
    "revenue_per_customer = 100\n",
    "retention_cost = 10\n",
    "\n",
    "TP = ((y_test == 1) & (y_pred == 1)).sum()\n",
    "FP = ((y_test == 0) & (y_pred == 1)).sum()\n",
    "\n",
    "roi = (TP * revenue_per_customer - FP * retention_cost) / (FP * retention_cost + 1e-6)\n",
    "print(f\"ROI: {roi:.2f}\")\n"
   ]
  },
  {
   "cell_type": "code",
   "execution_count": 17,
   "id": "29e9ce5f",
   "metadata": {},
   "outputs": [
    {
     "name": "stdout",
     "output_type": "stream",
     "text": [
      "              precision    recall  f1-score   support\n",
      "\n",
      "           0       0.77      0.92      0.84      8961\n",
      "           1       0.79      0.53      0.63      5185\n",
      "\n",
      "    accuracy                           0.78     14146\n",
      "   macro avg       0.78      0.72      0.74     14146\n",
      "weighted avg       0.78      0.78      0.76     14146\n",
      "\n"
     ]
    }
   ],
   "source": [
    "print(classification_report(y_test, y_pred))\n"
   ]
  },
  {
   "cell_type": "code",
   "execution_count": 18,
   "id": "ad4be1cb",
   "metadata": {},
   "outputs": [],
   "source": [
    "y_pred = baseline_model.predict(X_test)\n"
   ]
  },
  {
   "cell_type": "code",
   "execution_count": 19,
   "id": "ceaf2b4e",
   "metadata": {},
   "outputs": [
    {
     "name": "stdout",
     "output_type": "stream",
     "text": [
      "    Actual  Predicted\n",
      "0        1          0\n",
      "1        0          1\n",
      "2        0          0\n",
      "3        1          1\n",
      "4        0          0\n",
      "5        0          0\n",
      "6        0          0\n",
      "7        0          0\n",
      "8        1          0\n",
      "9        1          0\n",
      "10       1          1\n",
      "11       0          0\n",
      "12       0          0\n",
      "13       0          0\n",
      "14       0          0\n",
      "15       1          0\n",
      "16       1          0\n",
      "17       1          1\n",
      "18       0          0\n",
      "19       0          0\n"
     ]
    }
   ],
   "source": [
    "# Compare predictions and actual values\n",
    "comparison_df = pd.DataFrame({\n",
    "    'Actual': y_test.values,\n",
    "    'Predicted': y_pred\n",
    "})\n",
    "\n",
    "print(comparison_df.head(20))\n"
   ]
  },
  {
   "cell_type": "code",
   "execution_count": 20,
   "id": "d4ad66c7",
   "metadata": {},
   "outputs": [
    {
     "data": {
      "image/png": "[encoded data removed]",
      "text/plain": [
       "<Figure size 500x400 with 2 Axes>"
      ]
     },
     "metadata": {},
     "output_type": "display_data"
    }
   ],
   "source": [
    "import seaborn as sns\n",
    "import matplotlib.pyplot as plt\n",
    "from sklearn.metrics import confusion_matrix\n",
    "\n",
    "cm = confusion_matrix(y_test, y_pred)\n",
    "\n",
    "plt.figure(figsize=(5,4))\n",
    "sns.heatmap(cm, annot=True, fmt='d', cmap='Blues')\n",
    "plt.title('Confusion Matrix')\n",
    "plt.xlabel('Predicted')\n",
    "plt.ylabel('Actual')\n",
    "plt.show()\n"
   ]
  },
  {
   "cell_type": "code",
   "execution_count": 21,
   "id": "498468fe",
   "metadata": {},
   "outputs": [
    {
     "name": "stdout",
     "output_type": "stream",
     "text": [
      "Predicted Churn: 0\n"
     ]
    }
   ],
   "source": [
    "# Example: new unseen record (replace with your real data)\n",
    "new_data = pd.DataFrame({\n",
    "    'value': [350],\n",
    "    'value_scaled': [0.85],\n",
    "    'market_share': [0.12],\n",
    "    'State': ['Delhi'],\n",
    "    'Service_provider': ['Airtel'],\n",
    "    'type_of_connection': ['Postpaid']\n",
    "})\n",
    "\n",
    "# Predict churn (0 = No churn, 1 = Churn)\n",
    "predicted_churn = baseline_model.predict(new_data)\n",
    "print(\"Predicted Churn:\", predicted_churn[0])\n"
   ]
  },
  {
   "cell_type": "code",
   "execution_count": 23,
   "id": "6f2b499c",
   "metadata": {},
   "outputs": [
    {
     "name": "stdout",
     "output_type": "stream",
     "text": [
      "                               Feature  Coefficient\n",
      "36          cat__Service_provider_BSNL     0.851789\n",
      "46       cat__Service_provider_TELENOR     0.720638\n",
      "39           cat__Service_provider_JIO     0.538252\n",
      "40  cat__Service_provider_LOOP TELECOM     0.527018\n",
      "11                    cat__State_Delhi     0.476919\n",
      "22                   cat__State_Mumbai     0.457672\n",
      "17                cat__State_Karnataka     0.406566\n",
      "34        cat__Service_provider_AIRTEL     0.403200\n",
      "18                   cat__State_Kerala     0.391738\n",
      "12                  cat__State_Gujarat     0.341088\n"
     ]
    }
   ],
   "source": [
    "import numpy as np\n",
    "\n",
    "model = baseline_model.named_steps['classifier']\n",
    "feature_names = baseline_model.named_steps['preprocessor'].get_feature_names_out()\n",
    "coefficients = model.coef_[0]\n",
    "\n",
    "importance = pd.DataFrame({\n",
    "    'Feature': feature_names,\n",
    "    'Coefficient': coefficients\n",
    "}).sort_values(by='Coefficient', ascending=False)\n",
    "\n",
    "print(importance.head(10))\n"
   ]
  },
  {
   "cell_type": "code",
   "execution_count": 26,
   "id": "191fba24",
   "metadata": {},
   "outputs": [
    {
     "name": "stdout",
     "output_type": "stream",
     "text": [
      "   Actual  Predicted\n",
      "0       1          0\n",
      "1       0          1\n",
      "2       0          0\n",
      "3       1          1\n",
      "4       0          0\n",
      "5       0          0\n",
      "6       0          0\n",
      "7       0          0\n",
      "8       1          0\n",
      "9       1          0\n"
     ]
    }
   ],
   "source": [
    "results = pd.DataFrame({\n",
    "    'Actual': y_test.values,\n",
    "    'Predicted': y_pred\n",
    "})\n",
    "print(results.head(10))\n"
   ]
  },
  {
   "cell_type": "code",
   "execution_count": null,
   "id": "c2bd67b8",
   "metadata": {},
   "outputs": [],
   "source": []
  }
 ],
 "metadata": {
  "kernelspec": {
   "display_name": "Python 3 (ipykernel)",
   "language": "python",
   "name": "python3"
  },
  "language_info": {
   "codemirror_mode": {
    "name": "ipython",
    "version": 3
   },
   "file_extension": ".py",
   "mimetype": "text/x-python",
   "name": "python",
   "nbconvert_exporter": "python",
   "pygments_lexer": "ipython3",
   "version": "3.11.5"
  }
 },
 "nbformat": 4,
 "nbformat_minor": 5
}
